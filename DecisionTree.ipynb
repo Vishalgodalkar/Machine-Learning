{
 "cells": [
  {
   "cell_type": "code",
   "execution_count": 1,
   "id": "27ae3786-2fbe-4759-8796-f8092cfec253",
   "metadata": {},
   "outputs": [],
   "source": [
    "import pandas as pd\n",
    "import numpy as np\n",
    "import matplotlib.pyplot as plt\n",
    "import seaborn as sns"
   ]
  },
  {
   "cell_type": "code",
   "execution_count": 2,
   "id": "580bffd3-3ce9-4366-8b99-7bf9a90c7d81",
   "metadata": {},
   "outputs": [],
   "source": [
    "# Import warnings library\n",
    "import warnings\n",
    "\n",
    "# Ignore all warnings to keep output clean\n",
    "warnings.filterwarnings('ignore')"
   ]
  },
  {
   "cell_type": "code",
   "execution_count": 5,
   "id": "f99c7c80-6572-494c-a24d-4a5adfb3789f",
   "metadata": {},
   "outputs": [],
   "source": [
    "df = pd.read_csv('D:/ML/seattle-weather.csv')"
   ]
  },
  {
   "cell_type": "code",
   "execution_count": 7,
   "id": "6ef09849-24aa-446a-aaf9-fa002a88acf5",
   "metadata": {},
   "outputs": [
    {
     "data": {
      "text/plain": [
       "(1461, 6)"
      ]
     },
     "execution_count": 7,
     "metadata": {},
     "output_type": "execute_result"
    }
   ],
   "source": [
    "df.shape"
   ]
  },
  {
   "cell_type": "code",
   "execution_count": 8,
   "id": "c42dca53-fc5b-47b8-af9d-82b59a6b1c3b",
   "metadata": {},
   "outputs": [],
   "source": [
    "# Define column names for better readability\n",
    "col_names = ['date', 'precipitation', 'temp_max', 'temp_min', 'wind', 'weather']\n",
    "\n",
    "# Assign the new column names to the dataset\n",
    "df.columns = col_names"
   ]
  },
  {
   "cell_type": "code",
   "execution_count": 9,
   "id": "51c4129b-6f43-48d5-8eb4-40b99ad42ac7",
   "metadata": {},
   "outputs": [
    {
     "data": {
      "text/plain": [
       "['date', 'precipitation', 'temp_max', 'temp_min', 'wind', 'weather']"
      ]
     },
     "execution_count": 9,
     "metadata": {},
     "output_type": "execute_result"
    }
   ],
   "source": [
    "col_names"
   ]
  },
  {
   "cell_type": "code",
   "execution_count": 10,
   "id": "350f6344-3cfa-4754-b4ef-d8a8ae9a480c",
   "metadata": {},
   "outputs": [
    {
     "name": "stdout",
     "output_type": "stream",
     "text": [
      "<class 'pandas.core.frame.DataFrame'>\n",
      "RangeIndex: 1461 entries, 0 to 1460\n",
      "Data columns (total 6 columns):\n",
      " #   Column         Non-Null Count  Dtype  \n",
      "---  ------         --------------  -----  \n",
      " 0   date           1461 non-null   object \n",
      " 1   precipitation  1461 non-null   float64\n",
      " 2   temp_max       1461 non-null   float64\n",
      " 3   temp_min       1461 non-null   float64\n",
      " 4   wind           1461 non-null   float64\n",
      " 5   weather        1461 non-null   object \n",
      "dtypes: float64(4), object(2)\n",
      "memory usage: 68.6+ KB\n"
     ]
    }
   ],
   "source": [
    "df.info()"
   ]
  },
  {
   "cell_type": "code",
   "execution_count": 11,
   "id": "86ee7b2e-13d7-41e9-a814-687e86300fa9",
   "metadata": {},
   "outputs": [
    {
     "name": "stdout",
     "output_type": "stream",
     "text": [
      "date\n",
      "2015-12-31    1\n",
      "2012-01-01    1\n",
      "2012-01-02    1\n",
      "2012-01-03    1\n",
      "2012-01-04    1\n",
      "             ..\n",
      "2012-01-10    1\n",
      "2012-01-09    1\n",
      "2012-01-08    1\n",
      "2012-01-07    1\n",
      "2012-01-06    1\n",
      "Name: count, Length: 1461, dtype: int64\n",
      "precipitation\n",
      "0.0     838\n",
      "0.3      54\n",
      "0.5      40\n",
      "1.0      26\n",
      "1.5      25\n",
      "       ... \n",
      "33.5      1\n",
      "47.2      1\n",
      "22.4      1\n",
      "29.5      1\n",
      "21.8      1\n",
      "Name: count, Length: 111, dtype: int64\n",
      "temp_max\n",
      " 11.1    58\n",
      " 14.4    49\n",
      " 10.0    47\n",
      " 12.8    46\n",
      " 12.2    44\n",
      "         ..\n",
      "-1.1      1\n",
      "-1.6      1\n",
      "-0.5      1\n",
      " 35.6     1\n",
      " 35.0     1\n",
      "Name: count, Length: 67, dtype: int64\n",
      "temp_min\n",
      " 6.1     66\n",
      " 10.0    64\n",
      " 7.2     60\n",
      " 11.7    60\n",
      " 13.3    58\n",
      " 11.1    56\n",
      " 4.4     55\n",
      " 13.9    54\n",
      " 9.4     53\n",
      " 8.3     52\n",
      " 15.0    51\n",
      " 8.9     51\n",
      " 5.6     50\n",
      " 6.7     47\n",
      " 7.8     46\n",
      " 14.4    46\n",
      " 2.8     45\n",
      " 12.2    45\n",
      " 12.8    45\n",
      " 3.9     44\n",
      " 3.3     44\n",
      " 5.0     41\n",
      " 10.6    37\n",
      " 1.7     30\n",
      " 0.6     28\n",
      " 1.1     27\n",
      " 15.6    27\n",
      " 2.2     24\n",
      " 16.1    23\n",
      " 0.0     16\n",
      " 16.7    15\n",
      " 17.2    14\n",
      " 17.8     9\n",
      "-0.5      9\n",
      "-2.1      8\n",
      "-2.8      7\n",
      "-1.1      7\n",
      "-0.6      7\n",
      "-1.7      6\n",
      " 18.3     6\n",
      "-4.9      4\n",
      "-3.2      3\n",
      "-2.2      3\n",
      "-1.6      3\n",
      "-2.7      2\n",
      "-4.3      2\n",
      "-3.9      2\n",
      "-1.0      2\n",
      "-3.3      1\n",
      "-7.1      1\n",
      "-4.4      1\n",
      "-6.0      1\n",
      "-5.5      1\n",
      "-6.6      1\n",
      "-3.8      1\n",
      "Name: count, dtype: int64\n",
      "wind\n",
      "2.6    76\n",
      "3.0    65\n",
      "2.2    55\n",
      "2.5    51\n",
      "2.7    47\n",
      "       ..\n",
      "9.5     1\n",
      "0.4     1\n",
      "0.7     1\n",
      "6.9     1\n",
      "7.7     1\n",
      "Name: count, Length: 79, dtype: int64\n",
      "weather\n",
      "rain       641\n",
      "sun        640\n",
      "fog        101\n",
      "drizzle     53\n",
      "snow        26\n",
      "Name: count, dtype: int64\n"
     ]
    }
   ],
   "source": [
    "# Display the count of unique values in each column\n",
    "for col in col_names:\n",
    "    print(f\"Value counts for {col}:\\n\", df[col].value_counts(), \"\\n\")"
   ]
  },
  {
   "cell_type": "code",
   "execution_count": 12,
   "id": "86ba507f-12ea-4576-9c1d-3b32a91b55b6",
   "metadata": {},
   "outputs": [
    {
     "data": {
      "text/plain": [
       "weather\n",
       "rain       641\n",
       "sun        640\n",
       "fog        101\n",
       "drizzle     53\n",
       "snow        26\n",
       "Name: count, dtype: int64"
      ]
     },
     "execution_count": 12,
     "metadata": {},
     "output_type": "execute_result"
    }
   ],
   "source": [
    "# Display the count of unique values in the 'weather' column\n",
    "df['weather'].value_counts()"
   ]
  },
  {
   "cell_type": "code",
   "execution_count": 13,
   "id": "2699d883-2e8f-406a-a0d7-010204aeb075",
   "metadata": {},
   "outputs": [
    {
     "data": {
      "text/plain": [
       "date             0\n",
       "precipitation    0\n",
       "temp_max         0\n",
       "temp_min         0\n",
       "wind             0\n",
       "weather          0\n",
       "dtype: int64"
      ]
     },
     "execution_count": 13,
     "metadata": {},
     "output_type": "execute_result"
    }
   ],
   "source": [
    "df.isnull().sum()"
   ]
  },
  {
   "cell_type": "code",
   "execution_count": 14,
   "id": "35650b45-df03-4cd8-a13a-acdc6254a96c",
   "metadata": {},
   "outputs": [],
   "source": [
    "# Define features (X) by dropping the target and date columns\n",
    "X = df.drop(['weather', 'date'], axis=1)\n",
    "\n",
    "# Define target variable (y) as the 'weather' column\n",
    "y = df['weather']"
   ]
  },
  {
   "cell_type": "code",
   "execution_count": 15,
   "id": "5da717f9-7e39-4ae9-84f9-0f7d66995ca4",
   "metadata": {},
   "outputs": [],
   "source": [
    "# Split the dataset into training and testing sets\n",
    "# 33% of the data will be used for testing, and 67% for training\n",
    "from sklearn.model_selection import train_test_split\n",
    "X_train, X_test, y_train, y_test = train_test_split(X, y, test_size=0.33, random_state=42)"
   ]
  },
  {
   "cell_type": "code",
   "execution_count": 16,
   "id": "f99ed19c-fcbc-4f4c-b2dc-7102970c0a87",
   "metadata": {},
   "outputs": [
    {
     "data": {
      "text/plain": [
       "precipitation    float64\n",
       "temp_max         float64\n",
       "temp_min         float64\n",
       "wind             float64\n",
       "dtype: object"
      ]
     },
     "execution_count": 16,
     "metadata": {},
     "output_type": "execute_result"
    }
   ],
   "source": [
    "X_train.shape, X_test.shape\n",
    "\n",
    "# check data types in X_train\n",
    "X_train.dtypes"
   ]
  },
  {
   "cell_type": "code",
   "execution_count": 17,
   "id": "6ef183a7-2c7c-415a-a9d3-6d0c5b0dfc31",
   "metadata": {},
   "outputs": [],
   "source": [
    "# Import Decision Tree Classifier\n",
    "from sklearn.tree import DecisionTreeClassifier\n",
    "\n",
    "# Initialize the model with Gini impurity as the criterion and a max depth of 3\n",
    "clf_gini = DecisionTreeClassifier(criterion='gini', max_depth=3, random_state=0)\n",
    "\n",
    "# Train the model using the training data\n",
    "clf_gini.fit(X_train, y_train)\n",
    "\n",
    "# Make predictions on the test data\n",
    "y_pred_gini = clf_gini.predict(X_test)"
   ]
  },
  {
   "cell_type": "code",
   "execution_count": 18,
   "id": "4f9207ea-a016-4ff6-8727-b5d0f19b9075",
   "metadata": {},
   "outputs": [
    {
     "name": "stdout",
     "output_type": "stream",
     "text": [
      "Model accuracy score with criterion gini index: 0.8551\n"
     ]
    }
   ],
   "source": [
    "# Import accuracy_score to evaluate the model\n",
    "from sklearn.metrics import accuracy_score\n",
    "\n",
    "# Print the model's accuracy score on the test data\n",
    "print('Model accuracy score with criterion gini index: {0:0.4f}'.format(accuracy_score(y_test, y_pred_gini)))"
   ]
  },
  {
   "cell_type": "code",
   "execution_count": 19,
   "id": "52e94a89-4b93-4a6e-bd48-56aa812ec0cd",
   "metadata": {},
   "outputs": [
    {
     "name": "stdout",
     "output_type": "stream",
     "text": [
      "Training-set accuracy score: 0.8548\n"
     ]
    }
   ],
   "source": [
    "# Make predictions on the training data\n",
    "y_pred_train_gini = clf_gini.predict(X_train)\n",
    "\n",
    "# Print the accuracy score for the training set\n",
    "print('Training-set accuracy score: {0:0.4f}'.format(accuracy_score(y_train, y_pred_train_gini)))"
   ]
  },
  {
   "cell_type": "code",
   "execution_count": 21,
   "id": "8fa98c7d-e615-4b91-9b58-d00dc006da07",
   "metadata": {},
   "outputs": [
    {
     "name": "stdout",
     "output_type": "stream",
     "text": [
      "Training set score: 0.8548\n",
      "Test set score: 0.8551\n"
     ]
    }
   ],
   "source": [
    "# Print the model's accuracy score on the training set\n",
    "print('Training set score: {:.4f}'.format(clf_gini.score(X_train, y_train)))\n",
    "\n",
    "# Print the model's accuracy score on the test set\n",
    "print('Test set score: {:.4f}'.format(clf_gini.score(X_test, y_test)))"
   ]
  },
  {
   "cell_type": "code",
   "execution_count": 22,
   "id": "5aef6152-39f3-472b-a8ca-d17b27a99120",
   "metadata": {},
   "outputs": [],
   "source": [
    "# Import confusion_matrix to evaluate model performance\n",
    "from sklearn.metrics import confusion_matrix\n",
    "\n",
    "# Compute the confusion matrix\n",
    "cm = confusion_matrix(y_test, y_pred_gini)"
   ]
  },
  {
   "cell_type": "code",
   "execution_count": 23,
   "id": "0d5e0753-6970-4e1e-a4ba-63467e456c70",
   "metadata": {},
   "outputs": [
    {
     "name": "stdout",
     "output_type": "stream",
     "text": [
      "Confusion Matrix:\n",
      "[[  0   0   0   0  15]\n",
      " [  0   0   0   0  34]\n",
      " [  0   0 195   1  15]\n",
      " [  0   0   5   3   0]\n",
      " [  0   0   0   0 215]]\n"
     ]
    }
   ],
   "source": [
    "print(\"Confusion Matrix:\")\n",
    "print(cm)"
   ]
  },
  {
   "cell_type": "code",
   "execution_count": 24,
   "id": "51cd6223-7436-41c1-be21-105c5aac67d0",
   "metadata": {},
   "outputs": [
    {
     "name": "stdout",
     "output_type": "stream",
     "text": [
      "              precision    recall  f1-score   support\n",
      "\n",
      "     drizzle       0.00      0.00      0.00        15\n",
      "         fog       0.00      0.00      0.00        34\n",
      "        rain       0.97      0.92      0.95       211\n",
      "        snow       0.75      0.38      0.50         8\n",
      "         sun       0.77      1.00      0.87       215\n",
      "\n",
      "    accuracy                           0.86       483\n",
      "   macro avg       0.50      0.46      0.46       483\n",
      "weighted avg       0.78      0.86      0.81       483\n",
      "\n"
     ]
    },
    {
     "data": {
      "image/png": "[encoded data removed]",
      "text/plain": [
       "<Figure size 1200x800 with 1 Axes>"
      ]
     },
     "metadata": {},
     "output_type": "display_data"
    }
   ],
   "source": [
    "# Import classification_report to evaluate model performance\n",
    "from sklearn.metrics import classification_report\n",
    "\n",
    "# Print the classification report for precision, recall, and F1-score\n",
    "print(classification_report(y_test, y_pred_gini))\n",
    "\n",
    "# Import tree for visualization\n",
    "from sklearn import tree\n",
    "\n",
    "# Plot the decision tree\n",
    "plt.figure(figsize=(12,8))\n",
    "tree.plot_tree(clf_gini, feature_names=X.columns, class_names=y.unique(), filled=True)\n",
    "plt.show()"
   ]
  }
 ],
 "metadata": {
  "kernelspec": {
   "display_name": "Python 3 (ipykernel)",
   "language": "python",
   "name": "python3"
  },
  "language_info": {
   "codemirror_mode": {
    "name": "ipython",
    "version": 3
   },
   "file_extension": ".py",
   "mimetype": "text/x-python",
   "name": "python",
   "nbconvert_exporter": "python",
   "pygments_lexer": "ipython3",
   "version": "3.11.2"
  }
 },
 "nbformat": 4,
 "nbformat_minor": 5
}
